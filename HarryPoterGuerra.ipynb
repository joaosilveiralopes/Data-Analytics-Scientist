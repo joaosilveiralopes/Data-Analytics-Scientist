{
 "cells": [
  {
   "cell_type": "code",
   "execution_count": 14,
   "id": "cca49a07-56a4-4674-bde4-04922769dd94",
   "metadata": {
    "tags": []
   },
   "outputs": [],
   "source": [
    "import pandas as pd\n",
    "import numpy as np \n",
    "import matplotlib.pyplot as plt \n",
    "import seaborn as sns"
   ]
  },
  {
   "cell_type": "code",
   "execution_count": 5,
   "id": "f047e99a-76f6-4081-9755-4466bff7cd9d",
   "metadata": {
    "tags": []
   },
   "outputs": [
    {
     "data": {
      "text/html": [
       "<div>\n",
       "<style scoped>\n",
       "    .dataframe tbody tr th:only-of-type {\n",
       "        vertical-align: middle;\n",
       "    }\n",
       "\n",
       "    .dataframe tbody tr th {\n",
       "        vertical-align: top;\n",
       "    }\n",
       "\n",
       "    .dataframe thead th {\n",
       "        text-align: right;\n",
       "    }\n",
       "</style>\n",
       "<table border=\"1\" class=\"dataframe\">\n",
       "  <thead>\n",
       "    <tr style=\"text-align: right;\">\n",
       "      <th></th>\n",
       "      <th>NAME</th>\n",
       "      <th>BLOOD STATUS</th>\n",
       "      <th>Species</th>\n",
       "      <th>GENDER</th>\n",
       "      <th>HOUSE</th>\n",
       "      <th>HAIR COLOR</th>\n",
       "      <th>BOGGART</th>\n",
       "      <th>PATRONUS</th>\n",
       "      <th>Nationality</th>\n",
       "      <th>ALIVE?</th>\n",
       "    </tr>\n",
       "  </thead>\n",
       "  <tbody>\n",
       "    <tr>\n",
       "      <th>0</th>\n",
       "      <td>Harry Potter</td>\n",
       "      <td>Half-blood</td>\n",
       "      <td>Human</td>\n",
       "      <td>Male</td>\n",
       "      <td>Gryffindor</td>\n",
       "      <td>Jet-black</td>\n",
       "      <td>Dementor</td>\n",
       "      <td>Stag</td>\n",
       "      <td>English</td>\n",
       "      <td>Yes</td>\n",
       "    </tr>\n",
       "    <tr>\n",
       "      <th>1</th>\n",
       "      <td>Minerva McGonagall</td>\n",
       "      <td>Half-blood</td>\n",
       "      <td>Human</td>\n",
       "      <td>Female</td>\n",
       "      <td>Gryffindor</td>\n",
       "      <td>Black</td>\n",
       "      <td>Lord Voldemort</td>\n",
       "      <td>Cat</td>\n",
       "      <td>Scottish</td>\n",
       "      <td>Yes</td>\n",
       "    </tr>\n",
       "    <tr>\n",
       "      <th>2</th>\n",
       "      <td>Kingsley Shacklebolt</td>\n",
       "      <td>Pure-blood</td>\n",
       "      <td>Human</td>\n",
       "      <td>Male</td>\n",
       "      <td>NaN</td>\n",
       "      <td>Bald</td>\n",
       "      <td>NaN</td>\n",
       "      <td>Lynx</td>\n",
       "      <td>British or Irish</td>\n",
       "      <td>Yes</td>\n",
       "    </tr>\n",
       "    <tr>\n",
       "      <th>3</th>\n",
       "      <td>Aberforth Dumbledore</td>\n",
       "      <td>Half-blood</td>\n",
       "      <td>Human</td>\n",
       "      <td>Male</td>\n",
       "      <td>NaN</td>\n",
       "      <td>Grey</td>\n",
       "      <td>NaN</td>\n",
       "      <td>Goat</td>\n",
       "      <td>English</td>\n",
       "      <td>Yes</td>\n",
       "    </tr>\n",
       "    <tr>\n",
       "      <th>4</th>\n",
       "      <td>Remus Lupin</td>\n",
       "      <td>Half-blood</td>\n",
       "      <td>Werewolf</td>\n",
       "      <td>Male</td>\n",
       "      <td>Gryffindor</td>\n",
       "      <td>Light brown flecked with grey</td>\n",
       "      <td>Fullÿmoon</td>\n",
       "      <td>Wolf</td>\n",
       "      <td>British or Irish</td>\n",
       "      <td>No</td>\n",
       "    </tr>\n",
       "  </tbody>\n",
       "</table>\n",
       "</div>"
      ],
      "text/plain": [
       "                   NAME BLOOD STATUS   Species  GENDER       HOUSE  \\\n",
       "0          Harry Potter   Half-blood     Human    Male  Gryffindor   \n",
       "1    Minerva McGonagall   Half-blood     Human  Female  Gryffindor   \n",
       "2  Kingsley Shacklebolt   Pure-blood     Human    Male         NaN   \n",
       "3  Aberforth Dumbledore   Half-blood     Human    Male         NaN   \n",
       "4           Remus Lupin   Half-blood  Werewolf    Male  Gryffindor   \n",
       "\n",
       "                      HAIR COLOR         BOGGART PATRONUS       Nationality  \\\n",
       "0                      Jet-black        Dementor     Stag           English   \n",
       "1                          Black  Lord Voldemort      Cat          Scottish   \n",
       "2                           Bald             NaN     Lynx  British or Irish   \n",
       "3                           Grey             NaN     Goat           English   \n",
       "4  Light brown flecked with grey       Fullÿmoon     Wolf  British or Irish   \n",
       "\n",
       "  ALIVE?  \n",
       "0    Yes  \n",
       "1    Yes  \n",
       "2    Yes  \n",
       "3    Yes  \n",
       "4     No  "
      ]
     },
     "execution_count": 5,
     "metadata": {},
     "output_type": "execute_result"
    }
   ],
   "source": [
    "base = pd.read_csv('Second Wizard War DeadorAliveUpdated.csv')\n",
    "base.head()"
   ]
  },
  {
   "cell_type": "code",
   "execution_count": 6,
   "id": "7fb6b564-9072-47d3-8c74-544ff2663caa",
   "metadata": {
    "tags": []
   },
   "outputs": [
    {
     "name": "stdout",
     "output_type": "stream",
     "text": [
      "<class 'pandas.core.frame.DataFrame'>\n",
      "RangeIndex: 29 entries, 0 to 28\n",
      "Data columns (total 10 columns):\n",
      " #   Column        Non-Null Count  Dtype \n",
      "---  ------        --------------  ----- \n",
      " 0   NAME          29 non-null     object\n",
      " 1   BLOOD STATUS  26 non-null     object\n",
      " 2   Species       29 non-null     object\n",
      " 3   GENDER        29 non-null     object\n",
      " 4   HOUSE         21 non-null     object\n",
      " 5   HAIR COLOR    27 non-null     object\n",
      " 6   BOGGART       18 non-null     object\n",
      " 7   PATRONUS      16 non-null     object\n",
      " 8   Nationality   26 non-null     object\n",
      " 9   ALIVE?        28 non-null     object\n",
      "dtypes: object(10)\n",
      "memory usage: 2.4+ KB\n"
     ]
    },
    {
     "data": {
      "text/plain": [
       "None"
      ]
     },
     "metadata": {},
     "output_type": "display_data"
    },
    {
     "name": "stdout",
     "output_type": "stream",
     "text": [
      "<class 'pandas.core.frame.DataFrame'>\n",
      "Index: 11 entries, 0 to 21\n",
      "Data columns (total 10 columns):\n",
      " #   Column        Non-Null Count  Dtype \n",
      "---  ------        --------------  ----- \n",
      " 0   NAME          11 non-null     object\n",
      " 1   BLOOD STATUS  11 non-null     object\n",
      " 2   Species       11 non-null     object\n",
      " 3   GENDER        11 non-null     object\n",
      " 4   HOUSE         11 non-null     object\n",
      " 5   HAIR COLOR    11 non-null     object\n",
      " 6   BOGGART       11 non-null     object\n",
      " 7   PATRONUS      11 non-null     object\n",
      " 8   Nationality   11 non-null     object\n",
      " 9   ALIVE?        11 non-null     object\n",
      "dtypes: object(10)\n",
      "memory usage: 968.0+ bytes\n"
     ]
    },
    {
     "data": {
      "text/plain": [
       "None"
      ]
     },
     "metadata": {},
     "output_type": "display_data"
    }
   ],
   "source": [
    "display(base.info())\n",
    "base = base.dropna()\n",
    "display(base.info())"
   ]
  },
  {
   "cell_type": "code",
   "execution_count": 7,
   "id": "6c295be1-5d7f-4f83-bc30-4ec6189ea5b5",
   "metadata": {
    "tags": []
   },
   "outputs": [
    {
     "data": {
      "text/html": [
       "<div>\n",
       "<style scoped>\n",
       "    .dataframe tbody tr th:only-of-type {\n",
       "        vertical-align: middle;\n",
       "    }\n",
       "\n",
       "    .dataframe tbody tr th {\n",
       "        vertical-align: top;\n",
       "    }\n",
       "\n",
       "    .dataframe thead th {\n",
       "        text-align: right;\n",
       "    }\n",
       "</style>\n",
       "<table border=\"1\" class=\"dataframe\">\n",
       "  <thead>\n",
       "    <tr style=\"text-align: right;\">\n",
       "      <th></th>\n",
       "      <th>NAME</th>\n",
       "      <th>BLOOD STATUS</th>\n",
       "      <th>Species</th>\n",
       "      <th>GENDER</th>\n",
       "      <th>HOUSE</th>\n",
       "      <th>HAIR COLOR</th>\n",
       "      <th>BOGGART</th>\n",
       "      <th>PATRONUS</th>\n",
       "      <th>Nationality</th>\n",
       "      <th>ALIVE?</th>\n",
       "    </tr>\n",
       "  </thead>\n",
       "  <tbody>\n",
       "    <tr>\n",
       "      <th>0</th>\n",
       "      <td>Harry Potter</td>\n",
       "      <td>Half-blood</td>\n",
       "      <td>Human</td>\n",
       "      <td>Male</td>\n",
       "      <td>Gryffindor</td>\n",
       "      <td>Jet-black</td>\n",
       "      <td>Dementor</td>\n",
       "      <td>Stag</td>\n",
       "      <td>English</td>\n",
       "      <td>Yes</td>\n",
       "    </tr>\n",
       "    <tr>\n",
       "      <th>1</th>\n",
       "      <td>Minerva McGonagall</td>\n",
       "      <td>Half-blood</td>\n",
       "      <td>Human</td>\n",
       "      <td>Female</td>\n",
       "      <td>Gryffindor</td>\n",
       "      <td>Black</td>\n",
       "      <td>Lord Voldemort</td>\n",
       "      <td>Cat</td>\n",
       "      <td>Scottish</td>\n",
       "      <td>Yes</td>\n",
       "    </tr>\n",
       "    <tr>\n",
       "      <th>4</th>\n",
       "      <td>Remus Lupin</td>\n",
       "      <td>Half-blood</td>\n",
       "      <td>Werewolf</td>\n",
       "      <td>Male</td>\n",
       "      <td>Gryffindor</td>\n",
       "      <td>Light brown flecked with grey</td>\n",
       "      <td>Fullÿmoon</td>\n",
       "      <td>Wolf</td>\n",
       "      <td>British or Irish</td>\n",
       "      <td>No</td>\n",
       "    </tr>\n",
       "    <tr>\n",
       "      <th>9</th>\n",
       "      <td>Nymphadora Tonks</td>\n",
       "      <td>Half-blood</td>\n",
       "      <td>Human</td>\n",
       "      <td>Female</td>\n",
       "      <td>Hufflepuff</td>\n",
       "      <td>Mousy Brown</td>\n",
       "      <td>Losing her abilities</td>\n",
       "      <td>Wolf</td>\n",
       "      <td>British</td>\n",
       "      <td>No</td>\n",
       "    </tr>\n",
       "    <tr>\n",
       "      <th>14</th>\n",
       "      <td>George Weasley</td>\n",
       "      <td>Pure-blood</td>\n",
       "      <td>Human</td>\n",
       "      <td>Male</td>\n",
       "      <td>Gryffindor</td>\n",
       "      <td>Red</td>\n",
       "      <td>Lord Voldemort</td>\n",
       "      <td>Magpie</td>\n",
       "      <td>English</td>\n",
       "      <td>Yes</td>\n",
       "    </tr>\n",
       "  </tbody>\n",
       "</table>\n",
       "</div>"
      ],
      "text/plain": [
       "                  NAME BLOOD STATUS   Species  GENDER       HOUSE  \\\n",
       "0         Harry Potter   Half-blood     Human    Male  Gryffindor   \n",
       "1   Minerva McGonagall   Half-blood     Human  Female  Gryffindor   \n",
       "4          Remus Lupin   Half-blood  Werewolf    Male  Gryffindor   \n",
       "9     Nymphadora Tonks   Half-blood     Human  Female  Hufflepuff   \n",
       "14      George Weasley   Pure-blood     Human    Male  Gryffindor   \n",
       "\n",
       "                       HAIR COLOR               BOGGART PATRONUS  \\\n",
       "0                       Jet-black              Dementor     Stag   \n",
       "1                           Black        Lord Voldemort      Cat   \n",
       "4   Light brown flecked with grey             Fullÿmoon     Wolf   \n",
       "9                     Mousy Brown  Losing her abilities     Wolf   \n",
       "14                            Red        Lord Voldemort   Magpie   \n",
       "\n",
       "         Nationality ALIVE?  \n",
       "0            English    Yes  \n",
       "1           Scottish    Yes  \n",
       "4   British or Irish     No  \n",
       "9            British     No  \n",
       "14           English    Yes  "
      ]
     },
     "execution_count": 7,
     "metadata": {},
     "output_type": "execute_result"
    }
   ],
   "source": [
    "base.head()"
   ]
  },
  {
   "cell_type": "code",
   "execution_count": 27,
   "id": "49f32728-17ea-455e-8557-bd4fc352cd2e",
   "metadata": {
    "tags": []
   },
   "outputs": [
    {
     "data": {
      "text/plain": [
       "BLOOD STATUS\n",
       "Pure-blood     45.5%\n",
       "Half-blood     36.4%\n",
       "Muggle-born     9.1%\n",
       "Half-breed      9.1%\n",
       "Name: proportion, dtype: object"
      ]
     },
     "metadata": {},
     "output_type": "display_data"
    }
   ],
   "source": [
    "display(base['BLOOD STATUS'].value_counts(normalize = True).agg('{:.1%}'.format))"
   ]
  },
  {
   "cell_type": "code",
   "execution_count": 26,
   "id": "4f23f4be-3d5f-46f7-95b5-84060e8e7b45",
   "metadata": {
    "tags": []
   },
   "outputs": [
    {
     "data": {
      "text/html": [
       "<div>\n",
       "<style scoped>\n",
       "    .dataframe tbody tr th:only-of-type {\n",
       "        vertical-align: middle;\n",
       "    }\n",
       "\n",
       "    .dataframe tbody tr th {\n",
       "        vertical-align: top;\n",
       "    }\n",
       "\n",
       "    .dataframe thead th {\n",
       "        text-align: right;\n",
       "    }\n",
       "</style>\n",
       "<table border=\"1\" class=\"dataframe\">\n",
       "  <thead>\n",
       "    <tr style=\"text-align: right;\">\n",
       "      <th></th>\n",
       "      <th></th>\n",
       "      <th>count</th>\n",
       "    </tr>\n",
       "    <tr>\n",
       "      <th>BLOOD STATUS</th>\n",
       "      <th>ALIVE?</th>\n",
       "      <th></th>\n",
       "    </tr>\n",
       "  </thead>\n",
       "  <tbody>\n",
       "    <tr>\n",
       "      <th rowspan=\"2\" valign=\"top\">Half-blood</th>\n",
       "      <th>No</th>\n",
       "      <td>2</td>\n",
       "    </tr>\n",
       "    <tr>\n",
       "      <th>Yes</th>\n",
       "      <td>2</td>\n",
       "    </tr>\n",
       "    <tr>\n",
       "      <th>Half-breed</th>\n",
       "      <th>Yes</th>\n",
       "      <td>1</td>\n",
       "    </tr>\n",
       "    <tr>\n",
       "      <th>Muggle-born</th>\n",
       "      <th>Yes</th>\n",
       "      <td>1</td>\n",
       "    </tr>\n",
       "    <tr>\n",
       "      <th rowspan=\"2\" valign=\"top\">Pure-blood</th>\n",
       "      <th>No</th>\n",
       "      <td>2</td>\n",
       "    </tr>\n",
       "    <tr>\n",
       "      <th>Yes</th>\n",
       "      <td>3</td>\n",
       "    </tr>\n",
       "  </tbody>\n",
       "</table>\n",
       "</div>"
      ],
      "text/plain": [
       "                     count\n",
       "BLOOD STATUS ALIVE?       \n",
       "Half-blood   No          2\n",
       "             Yes         2\n",
       "Half-breed   Yes         1\n",
       "Muggle-born  Yes         1\n",
       "Pure-blood   No          2\n",
       "             Yes         3"
      ]
     },
     "execution_count": 26,
     "metadata": {},
     "output_type": "execute_result"
    }
   ],
   "source": [
    "base.groupby(['BLOOD STATUS', 'ALIVE?']).agg({'ALIVE?': 'count'}).rename(columns={'ALIVE?':'count'})"
   ]
  },
  {
   "cell_type": "code",
   "execution_count": 11,
   "id": "bcfaed2c-8fdd-467a-9b54-55f24578ea1c",
   "metadata": {
    "tags": []
   },
   "outputs": [
    {
     "data": {
      "text/plain": [
       "Text(0.5, 0, 'BLOOD STATUS')"
      ]
     },
     "execution_count": 11,
     "metadata": {},
     "output_type": "execute_result"
    },
    {
     "data": {
      "image/png": "[encoded data removed]",
      "text/plain": [
       "<Figure size 640x480 with 1 Axes>"
      ]
     },
     "metadata": {},
     "output_type": "display_data"
    }
   ],
   "source": [
    "plt.hist(base.iloc[:,1], bins = 8)\n",
    "plt.title('Meio Sangue')\n",
    "plt.ylabel('ALIVE?')\n",
    "plt.xlabel('BLOOD STATUS')"
   ]
  },
  {
   "cell_type": "code",
   "execution_count": 31,
   "id": "ef1e0763-2c20-4c6d-984b-28850b579767",
   "metadata": {
    "tags": []
   },
   "outputs": [
    {
     "data": {
      "text/plain": [
       "GENDER\n",
       "Male      63.6%\n",
       "Female    36.4%\n",
       "Name: proportion, dtype: object"
      ]
     },
     "metadata": {},
     "output_type": "display_data"
    }
   ],
   "source": [
    "display(base['GENDER'].value_counts(normalize = True).agg('{:.1%}'.format))"
   ]
  },
  {
   "cell_type": "code",
   "execution_count": 30,
   "id": "1101a92b-49e5-477b-91a0-b20524aad0dd",
   "metadata": {
    "tags": []
   },
   "outputs": [
    {
     "data": {
      "text/html": [
       "<div>\n",
       "<style scoped>\n",
       "    .dataframe tbody tr th:only-of-type {\n",
       "        vertical-align: middle;\n",
       "    }\n",
       "\n",
       "    .dataframe tbody tr th {\n",
       "        vertical-align: top;\n",
       "    }\n",
       "\n",
       "    .dataframe thead th {\n",
       "        text-align: right;\n",
       "    }\n",
       "</style>\n",
       "<table border=\"1\" class=\"dataframe\">\n",
       "  <thead>\n",
       "    <tr style=\"text-align: right;\">\n",
       "      <th></th>\n",
       "      <th></th>\n",
       "      <th>count</th>\n",
       "    </tr>\n",
       "    <tr>\n",
       "      <th>GENDER</th>\n",
       "      <th>ALIVE?</th>\n",
       "      <th></th>\n",
       "    </tr>\n",
       "  </thead>\n",
       "  <tbody>\n",
       "    <tr>\n",
       "      <th rowspan=\"2\" valign=\"top\">Female</th>\n",
       "      <th>No</th>\n",
       "      <td>2</td>\n",
       "    </tr>\n",
       "    <tr>\n",
       "      <th>Yes</th>\n",
       "      <td>2</td>\n",
       "    </tr>\n",
       "    <tr>\n",
       "      <th rowspan=\"2\" valign=\"top\">Male</th>\n",
       "      <th>No</th>\n",
       "      <td>2</td>\n",
       "    </tr>\n",
       "    <tr>\n",
       "      <th>Yes</th>\n",
       "      <td>5</td>\n",
       "    </tr>\n",
       "  </tbody>\n",
       "</table>\n",
       "</div>"
      ],
      "text/plain": [
       "               count\n",
       "GENDER ALIVE?       \n",
       "Female No          2\n",
       "       Yes         2\n",
       "Male   No          2\n",
       "       Yes         5"
      ]
     },
     "execution_count": 30,
     "metadata": {},
     "output_type": "execute_result"
    }
   ],
   "source": [
    "base.groupby(['GENDER', 'ALIVE?']).agg({'ALIVE?': 'count'}).rename(columns={'ALIVE?':'count'})"
   ]
  },
  {
   "cell_type": "code",
   "execution_count": 33,
   "id": "e3fdf4d8-37b8-4ba5-8ab4-432ee08d5a35",
   "metadata": {
    "tags": []
   },
   "outputs": [
    {
     "data": {
      "text/plain": [
       "Text(0.5, 0, 'GENGER')"
      ]
     },
     "execution_count": 33,
     "metadata": {},
     "output_type": "execute_result"
    },
    {
     "data": {
      "image/png": "[encoded data removed]",
      "text/plain": [
       "<Figure size 640x480 with 1 Axes>"
      ]
     },
     "metadata": {},
     "output_type": "display_data"
    }
   ],
   "source": [
    "plt.hist(base.iloc[:,3], bins = 8)\n",
    "plt.title('Gender')\n",
    "plt.ylabel('ALIVE?')\n",
    "plt.xlabel('GENGER')"
   ]
  },
  {
   "cell_type": "code",
   "execution_count": 35,
   "id": "2cc28a53-85a4-4d62-8ce8-ba9b28572ec3",
   "metadata": {
    "tags": []
   },
   "outputs": [
    {
     "data": {
      "text/plain": [
       "Species\n",
       "Human           81.8%\n",
       "Werewolf         9.1%\n",
       "Human-Goblin     9.1%\n",
       "Name: proportion, dtype: object"
      ]
     },
     "metadata": {},
     "output_type": "display_data"
    }
   ],
   "source": [
    "display(base['Species'].value_counts(normalize=True).agg('{:.1%}'.format))"
   ]
  },
  {
   "cell_type": "code",
   "execution_count": 38,
   "id": "b29d00fe-d541-4bb4-aa31-3707bdd4e507",
   "metadata": {
    "tags": []
   },
   "outputs": [
    {
     "data": {
      "text/html": [
       "<div>\n",
       "<style scoped>\n",
       "    .dataframe tbody tr th:only-of-type {\n",
       "        vertical-align: middle;\n",
       "    }\n",
       "\n",
       "    .dataframe tbody tr th {\n",
       "        vertical-align: top;\n",
       "    }\n",
       "\n",
       "    .dataframe thead th {\n",
       "        text-align: right;\n",
       "    }\n",
       "</style>\n",
       "<table border=\"1\" class=\"dataframe\">\n",
       "  <thead>\n",
       "    <tr style=\"text-align: right;\">\n",
       "      <th></th>\n",
       "      <th></th>\n",
       "      <th>count</th>\n",
       "    </tr>\n",
       "    <tr>\n",
       "      <th>Species</th>\n",
       "      <th>ALIVE?</th>\n",
       "      <th></th>\n",
       "    </tr>\n",
       "  </thead>\n",
       "  <tbody>\n",
       "    <tr>\n",
       "      <th rowspan=\"2\" valign=\"top\">Human</th>\n",
       "      <th>No</th>\n",
       "      <td>3</td>\n",
       "    </tr>\n",
       "    <tr>\n",
       "      <th>Yes</th>\n",
       "      <td>6</td>\n",
       "    </tr>\n",
       "    <tr>\n",
       "      <th>Human-Goblin</th>\n",
       "      <th>Yes</th>\n",
       "      <td>1</td>\n",
       "    </tr>\n",
       "    <tr>\n",
       "      <th>Werewolf</th>\n",
       "      <th>No</th>\n",
       "      <td>1</td>\n",
       "    </tr>\n",
       "  </tbody>\n",
       "</table>\n",
       "</div>"
      ],
      "text/plain": [
       "                     count\n",
       "Species      ALIVE?       \n",
       "Human        No          3\n",
       "             Yes         6\n",
       "Human-Goblin Yes         1\n",
       "Werewolf     No          1"
      ]
     },
     "execution_count": 38,
     "metadata": {},
     "output_type": "execute_result"
    }
   ],
   "source": [
    "base.groupby(['Species', 'ALIVE?']).agg({'Species': 'count'}).rename(columns={'Species': 'count'})"
   ]
  },
  {
   "cell_type": "code",
   "execution_count": 40,
   "id": "ae240214-9e39-4060-be02-e9ae7a4b9f4a",
   "metadata": {
    "tags": []
   },
   "outputs": [
    {
     "data": {
      "text/plain": [
       "Text(0, 0.5, 'Species')"
      ]
     },
     "execution_count": 40,
     "metadata": {},
     "output_type": "execute_result"
    },
    {
     "data": {
      "image/png": "[encoded data removed]",
      "text/plain": [
       "<Figure size 640x480 with 1 Axes>"
      ]
     },
     "metadata": {},
     "output_type": "display_data"
    }
   ],
   "source": [
    "plt.hist(base.iloc[:, 2], bins=6)\n",
    "plt.title('Species')\n",
    "plt.xlabel('ALIVE?')\n",
    "plt.ylabel('Species')"
   ]
  },
  {
   "cell_type": "code",
   "execution_count": 41,
   "id": "be71f670-6a1e-49cc-9082-5f8f1c319ccc",
   "metadata": {
    "tags": []
   },
   "outputs": [
    {
     "data": {
      "text/plain": [
       "HOUSE\n",
       "Gryffindor    81.8%\n",
       "Hufflepuff     9.1%\n",
       "Ravenclaw      9.1%\n",
       "Name: proportion, dtype: object"
      ]
     },
     "metadata": {},
     "output_type": "display_data"
    }
   ],
   "source": [
    "display(base['HOUSE'].value_counts(normalize=True).agg('{:.1%}'.format))"
   ]
  },
  {
   "cell_type": "code",
   "execution_count": 45,
   "id": "896f5dd6-0893-41ef-93db-cd6284aab5bb",
   "metadata": {
    "tags": []
   },
   "outputs": [
    {
     "data": {
      "text/html": [
       "<div>\n",
       "<style scoped>\n",
       "    .dataframe tbody tr th:only-of-type {\n",
       "        vertical-align: middle;\n",
       "    }\n",
       "\n",
       "    .dataframe tbody tr th {\n",
       "        vertical-align: top;\n",
       "    }\n",
       "\n",
       "    .dataframe thead th {\n",
       "        text-align: right;\n",
       "    }\n",
       "</style>\n",
       "<table border=\"1\" class=\"dataframe\">\n",
       "  <thead>\n",
       "    <tr style=\"text-align: right;\">\n",
       "      <th></th>\n",
       "      <th></th>\n",
       "      <th>count</th>\n",
       "    </tr>\n",
       "    <tr>\n",
       "      <th>HOUSE</th>\n",
       "      <th>ALIVE?</th>\n",
       "      <th></th>\n",
       "    </tr>\n",
       "  </thead>\n",
       "  <tbody>\n",
       "    <tr>\n",
       "      <th rowspan=\"2\" valign=\"top\">Gryffindor</th>\n",
       "      <th>No</th>\n",
       "      <td>3</td>\n",
       "    </tr>\n",
       "    <tr>\n",
       "      <th>Yes</th>\n",
       "      <td>6</td>\n",
       "    </tr>\n",
       "    <tr>\n",
       "      <th>Hufflepuff</th>\n",
       "      <th>No</th>\n",
       "      <td>1</td>\n",
       "    </tr>\n",
       "    <tr>\n",
       "      <th>Ravenclaw</th>\n",
       "      <th>Yes</th>\n",
       "      <td>1</td>\n",
       "    </tr>\n",
       "  </tbody>\n",
       "</table>\n",
       "</div>"
      ],
      "text/plain": [
       "                   count\n",
       "HOUSE      ALIVE?       \n",
       "Gryffindor No          3\n",
       "           Yes         6\n",
       "Hufflepuff No          1\n",
       "Ravenclaw  Yes         1"
      ]
     },
     "execution_count": 45,
     "metadata": {},
     "output_type": "execute_result"
    }
   ],
   "source": [
    "base.groupby(['HOUSE', 'ALIVE?']).agg({'HOUSE': 'count'}).rename(columns={'HOUSE':'count'})"
   ]
  },
  {
   "cell_type": "code",
   "execution_count": 49,
   "id": "555736e5-cda8-4afa-a007-ab828fb6b03f",
   "metadata": {
    "tags": []
   },
   "outputs": [
    {
     "data": {
      "text/plain": [
       "Text(0, 0.5, 'HOUSE')"
      ]
     },
     "execution_count": 49,
     "metadata": {},
     "output_type": "execute_result"
    },
    {
     "data": {
      "image/png": "[encoded data removed]",
      "text/plain": [
       "<Figure size 640x480 with 1 Axes>"
      ]
     },
     "metadata": {},
     "output_type": "display_data"
    }
   ],
   "source": [
    "plt.hist(base.iloc[:,4], bins = 6)\n",
    "plt.title('House')\n",
    "plt.xlabel('ALIVE?')\n",
    "plt.ylabel('HOUSE')"
   ]
  },
  {
   "cell_type": "code",
   "execution_count": 50,
   "id": "8103c2c7-1458-42ca-818e-8e6868a2cfae",
   "metadata": {
    "tags": []
   },
   "outputs": [
    {
     "data": {
      "text/plain": [
       "Nationality\n",
       "English             45.5%\n",
       "British or Irish    27.3%\n",
       "British             18.2%\n",
       "Scottish             9.1%\n",
       "Name: proportion, dtype: object"
      ]
     },
     "metadata": {},
     "output_type": "display_data"
    }
   ],
   "source": [
    "display(base['Nationality'].value_counts(normalize=True).agg('{:.1%}'.format))"
   ]
  },
  {
   "cell_type": "code",
   "execution_count": 52,
   "id": "b01f49b1-af2d-43cc-a4c7-fe06941baa6f",
   "metadata": {
    "tags": []
   },
   "outputs": [
    {
     "data": {
      "text/html": [
       "<div>\n",
       "<style scoped>\n",
       "    .dataframe tbody tr th:only-of-type {\n",
       "        vertical-align: middle;\n",
       "    }\n",
       "\n",
       "    .dataframe tbody tr th {\n",
       "        vertical-align: top;\n",
       "    }\n",
       "\n",
       "    .dataframe thead th {\n",
       "        text-align: right;\n",
       "    }\n",
       "</style>\n",
       "<table border=\"1\" class=\"dataframe\">\n",
       "  <thead>\n",
       "    <tr style=\"text-align: right;\">\n",
       "      <th></th>\n",
       "      <th></th>\n",
       "      <th>count</th>\n",
       "    </tr>\n",
       "    <tr>\n",
       "      <th>Nationality</th>\n",
       "      <th>ALIVE?</th>\n",
       "      <th></th>\n",
       "    </tr>\n",
       "  </thead>\n",
       "  <tbody>\n",
       "    <tr>\n",
       "      <th rowspan=\"2\" valign=\"top\">British</th>\n",
       "      <th>No</th>\n",
       "      <td>1</td>\n",
       "    </tr>\n",
       "    <tr>\n",
       "      <th>Yes</th>\n",
       "      <td>1</td>\n",
       "    </tr>\n",
       "    <tr>\n",
       "      <th rowspan=\"2\" valign=\"top\">British or Irish</th>\n",
       "      <th>No</th>\n",
       "      <td>2</td>\n",
       "    </tr>\n",
       "    <tr>\n",
       "      <th>Yes</th>\n",
       "      <td>1</td>\n",
       "    </tr>\n",
       "    <tr>\n",
       "      <th rowspan=\"2\" valign=\"top\">English</th>\n",
       "      <th>No</th>\n",
       "      <td>1</td>\n",
       "    </tr>\n",
       "    <tr>\n",
       "      <th>Yes</th>\n",
       "      <td>4</td>\n",
       "    </tr>\n",
       "    <tr>\n",
       "      <th>Scottish</th>\n",
       "      <th>Yes</th>\n",
       "      <td>1</td>\n",
       "    </tr>\n",
       "  </tbody>\n",
       "</table>\n",
       "</div>"
      ],
      "text/plain": [
       "                         count\n",
       "Nationality      ALIVE?       \n",
       "British          No          1\n",
       "                 Yes         1\n",
       "British or Irish No          2\n",
       "                 Yes         1\n",
       "English          No          1\n",
       "                 Yes         4\n",
       "Scottish         Yes         1"
      ]
     },
     "execution_count": 52,
     "metadata": {},
     "output_type": "execute_result"
    }
   ],
   "source": [
    "base.groupby(['Nationality', 'ALIVE?']).agg({'Nationality':'count'}).rename(columns={'Nationality': 'count'})"
   ]
  },
  {
   "cell_type": "code",
   "execution_count": 54,
   "id": "e91f1204-9612-4731-b838-3788a44d2cdb",
   "metadata": {
    "tags": []
   },
   "outputs": [
    {
     "data": {
      "text/plain": [
       "Text(0.5, 0, 'ALIVE?')"
      ]
     },
     "execution_count": 54,
     "metadata": {},
     "output_type": "execute_result"
    },
    {
     "data": {
      "image/png": "[encoded data removed]",
      "text/plain": [
       "<Figure size 640x480 with 1 Axes>"
      ]
     },
     "metadata": {},
     "output_type": "display_data"
    }
   ],
   "source": [
    "plt.hist(base.iloc[:,8], bins = 8)\n",
    "plt.title('Nacionalidade')\n",
    "plt.ylabel('Nationality')\n",
    "plt.xlabel('ALIVE?')"
   ]
  },
  {
   "cell_type": "code",
   "execution_count": 56,
   "id": "6f3a57ec-fa1b-4fec-8664-d32a037996ec",
   "metadata": {
    "tags": []
   },
   "outputs": [
    {
     "data": {
      "text/plain": [
       "BOGGART\n",
       "Lord Voldemort          36.4%\n",
       "Dementor                 9.1%\n",
       "Fullÿmoon                9.1%\n",
       "Losing her abilities     9.1%\n",
       "Bloody eyeball           9.1%\n",
       "Aragog                   9.1%\n",
       "Failure                  9.1%\n",
       "Severus Snape            9.1%\n",
       "Name: proportion, dtype: object"
      ]
     },
     "metadata": {},
     "output_type": "display_data"
    }
   ],
   "source": [
    "display(base['BOGGART'].value_counts(normalize=True).agg('{:.1%}'.format))"
   ]
  },
  {
   "cell_type": "code",
   "execution_count": 57,
   "id": "675085ce-0313-4a63-ad09-1b17f1148c87",
   "metadata": {
    "tags": []
   },
   "outputs": [
    {
     "data": {
      "text/html": [
       "<div>\n",
       "<style scoped>\n",
       "    .dataframe tbody tr th:only-of-type {\n",
       "        vertical-align: middle;\n",
       "    }\n",
       "\n",
       "    .dataframe tbody tr th {\n",
       "        vertical-align: top;\n",
       "    }\n",
       "\n",
       "    .dataframe thead th {\n",
       "        text-align: right;\n",
       "    }\n",
       "</style>\n",
       "<table border=\"1\" class=\"dataframe\">\n",
       "  <thead>\n",
       "    <tr style=\"text-align: right;\">\n",
       "      <th></th>\n",
       "      <th></th>\n",
       "      <th>count</th>\n",
       "    </tr>\n",
       "    <tr>\n",
       "      <th>BOGGART</th>\n",
       "      <th>ALIVE?</th>\n",
       "      <th></th>\n",
       "    </tr>\n",
       "  </thead>\n",
       "  <tbody>\n",
       "    <tr>\n",
       "      <th>Aragog</th>\n",
       "      <th>Yes</th>\n",
       "      <td>1</td>\n",
       "    </tr>\n",
       "    <tr>\n",
       "      <th>Bloody eyeball</th>\n",
       "      <th>No</th>\n",
       "      <td>1</td>\n",
       "    </tr>\n",
       "    <tr>\n",
       "      <th>Dementor</th>\n",
       "      <th>Yes</th>\n",
       "      <td>1</td>\n",
       "    </tr>\n",
       "    <tr>\n",
       "      <th>Failure</th>\n",
       "      <th>Yes</th>\n",
       "      <td>1</td>\n",
       "    </tr>\n",
       "    <tr>\n",
       "      <th>Fullÿmoon</th>\n",
       "      <th>No</th>\n",
       "      <td>1</td>\n",
       "    </tr>\n",
       "    <tr>\n",
       "      <th rowspan=\"2\" valign=\"top\">Lord Voldemort</th>\n",
       "      <th>No</th>\n",
       "      <td>1</td>\n",
       "    </tr>\n",
       "    <tr>\n",
       "      <th>Yes</th>\n",
       "      <td>3</td>\n",
       "    </tr>\n",
       "    <tr>\n",
       "      <th>Losing her abilities</th>\n",
       "      <th>No</th>\n",
       "      <td>1</td>\n",
       "    </tr>\n",
       "    <tr>\n",
       "      <th>Severus Snape</th>\n",
       "      <th>Yes</th>\n",
       "      <td>1</td>\n",
       "    </tr>\n",
       "  </tbody>\n",
       "</table>\n",
       "</div>"
      ],
      "text/plain": [
       "                             count\n",
       "BOGGART              ALIVE?       \n",
       "Aragog               Yes         1\n",
       "Bloody eyeball       No          1\n",
       "Dementor             Yes         1\n",
       "Failure              Yes         1\n",
       "Fullÿmoon            No          1\n",
       "Lord Voldemort       No          1\n",
       "                     Yes         3\n",
       "Losing her abilities No          1\n",
       "Severus Snape        Yes         1"
      ]
     },
     "execution_count": 57,
     "metadata": {},
     "output_type": "execute_result"
    }
   ],
   "source": [
    "base.groupby(['BOGGART', 'ALIVE?']).agg({'BOGGART': 'count'}).rename(columns={'BOGGART': 'count'})"
   ]
  },
  {
   "cell_type": "code",
   "execution_count": 59,
   "id": "0115a79a-c889-49c0-8504-421d3bb31aea",
   "metadata": {
    "tags": []
   },
   "outputs": [
    {
     "data": {
      "text/html": [
       "<div>\n",
       "<style scoped>\n",
       "    .dataframe tbody tr th:only-of-type {\n",
       "        vertical-align: middle;\n",
       "    }\n",
       "\n",
       "    .dataframe tbody tr th {\n",
       "        vertical-align: top;\n",
       "    }\n",
       "\n",
       "    .dataframe thead th {\n",
       "        text-align: right;\n",
       "    }\n",
       "</style>\n",
       "<table border=\"1\" class=\"dataframe\">\n",
       "  <thead>\n",
       "    <tr style=\"text-align: right;\">\n",
       "      <th></th>\n",
       "      <th></th>\n",
       "      <th>count</th>\n",
       "    </tr>\n",
       "    <tr>\n",
       "      <th>NAME</th>\n",
       "      <th>BOGGART</th>\n",
       "      <th></th>\n",
       "    </tr>\n",
       "  </thead>\n",
       "  <tbody>\n",
       "    <tr>\n",
       "      <th>Filius Flitwick</th>\n",
       "      <th>Lord Voldemort</th>\n",
       "      <td>1</td>\n",
       "    </tr>\n",
       "    <tr>\n",
       "      <th>Fred Weasley</th>\n",
       "      <th>Lord Voldemort</th>\n",
       "      <td>1</td>\n",
       "    </tr>\n",
       "    <tr>\n",
       "      <th>George Weasley</th>\n",
       "      <th>Lord Voldemort</th>\n",
       "      <td>1</td>\n",
       "    </tr>\n",
       "    <tr>\n",
       "      <th>Harry Potter</th>\n",
       "      <th>Dementor</th>\n",
       "      <td>1</td>\n",
       "    </tr>\n",
       "    <tr>\n",
       "      <th>Hermione Granger</th>\n",
       "      <th>Failure</th>\n",
       "      <td>1</td>\n",
       "    </tr>\n",
       "    <tr>\n",
       "      <th>Lavender Brown</th>\n",
       "      <th>Bloody eyeball</th>\n",
       "      <td>1</td>\n",
       "    </tr>\n",
       "    <tr>\n",
       "      <th>Minerva McGonagall</th>\n",
       "      <th>Lord Voldemort</th>\n",
       "      <td>1</td>\n",
       "    </tr>\n",
       "    <tr>\n",
       "      <th>Neville Longbottom</th>\n",
       "      <th>Severus Snape</th>\n",
       "      <td>1</td>\n",
       "    </tr>\n",
       "    <tr>\n",
       "      <th>Nymphadora Tonks</th>\n",
       "      <th>Losing her abilities</th>\n",
       "      <td>1</td>\n",
       "    </tr>\n",
       "    <tr>\n",
       "      <th>Remus Lupin</th>\n",
       "      <th>Fullÿmoon</th>\n",
       "      <td>1</td>\n",
       "    </tr>\n",
       "    <tr>\n",
       "      <th>Ronald Weasley</th>\n",
       "      <th>Aragog</th>\n",
       "      <td>1</td>\n",
       "    </tr>\n",
       "  </tbody>\n",
       "</table>\n",
       "</div>"
      ],
      "text/plain": [
       "                                         count\n",
       "NAME               BOGGART                    \n",
       "Filius Flitwick    Lord Voldemort            1\n",
       "Fred Weasley       Lord Voldemort            1\n",
       "George Weasley     Lord Voldemort            1\n",
       "Harry Potter       Dementor                  1\n",
       "Hermione Granger   Failure                   1\n",
       "Lavender Brown     Bloody eyeball            1\n",
       "Minerva McGonagall Lord Voldemort            1\n",
       "Neville Longbottom Severus Snape             1\n",
       "Nymphadora Tonks   Losing her abilities      1\n",
       "Remus Lupin        Fullÿmoon                 1\n",
       "Ronald Weasley     Aragog                    1"
      ]
     },
     "execution_count": 59,
     "metadata": {},
     "output_type": "execute_result"
    }
   ],
   "source": [
    "base.groupby(['NAME', 'BOGGART']).agg({'NAME': 'count'}).rename(columns={'NAME': 'count'})"
   ]
  },
  {
   "cell_type": "code",
   "execution_count": 61,
   "id": "54483e86-0052-4ff2-a15f-c8d94c2d43f9",
   "metadata": {
    "tags": []
   },
   "outputs": [
    {
     "data": {
      "text/html": [
       "<div>\n",
       "<style scoped>\n",
       "    .dataframe tbody tr th:only-of-type {\n",
       "        vertical-align: middle;\n",
       "    }\n",
       "\n",
       "    .dataframe tbody tr th {\n",
       "        vertical-align: top;\n",
       "    }\n",
       "\n",
       "    .dataframe thead th {\n",
       "        text-align: right;\n",
       "    }\n",
       "</style>\n",
       "<table border=\"1\" class=\"dataframe\">\n",
       "  <thead>\n",
       "    <tr style=\"text-align: right;\">\n",
       "      <th></th>\n",
       "      <th></th>\n",
       "      <th>count</th>\n",
       "    </tr>\n",
       "    <tr>\n",
       "      <th>HOUSE</th>\n",
       "      <th>BOGGART</th>\n",
       "      <th></th>\n",
       "    </tr>\n",
       "  </thead>\n",
       "  <tbody>\n",
       "    <tr>\n",
       "      <th rowspan=\"7\" valign=\"top\">Gryffindor</th>\n",
       "      <th>Aragog</th>\n",
       "      <td>1</td>\n",
       "    </tr>\n",
       "    <tr>\n",
       "      <th>Bloody eyeball</th>\n",
       "      <td>1</td>\n",
       "    </tr>\n",
       "    <tr>\n",
       "      <th>Dementor</th>\n",
       "      <td>1</td>\n",
       "    </tr>\n",
       "    <tr>\n",
       "      <th>Failure</th>\n",
       "      <td>1</td>\n",
       "    </tr>\n",
       "    <tr>\n",
       "      <th>Fullÿmoon</th>\n",
       "      <td>1</td>\n",
       "    </tr>\n",
       "    <tr>\n",
       "      <th>Lord Voldemort</th>\n",
       "      <td>3</td>\n",
       "    </tr>\n",
       "    <tr>\n",
       "      <th>Severus Snape</th>\n",
       "      <td>1</td>\n",
       "    </tr>\n",
       "    <tr>\n",
       "      <th>Hufflepuff</th>\n",
       "      <th>Losing her abilities</th>\n",
       "      <td>1</td>\n",
       "    </tr>\n",
       "    <tr>\n",
       "      <th>Ravenclaw</th>\n",
       "      <th>Lord Voldemort</th>\n",
       "      <td>1</td>\n",
       "    </tr>\n",
       "  </tbody>\n",
       "</table>\n",
       "</div>"
      ],
      "text/plain": [
       "                                 count\n",
       "HOUSE      BOGGART                    \n",
       "Gryffindor Aragog                    1\n",
       "           Bloody eyeball            1\n",
       "           Dementor                  1\n",
       "           Failure                   1\n",
       "           Fullÿmoon                 1\n",
       "           Lord Voldemort            3\n",
       "           Severus Snape             1\n",
       "Hufflepuff Losing her abilities      1\n",
       "Ravenclaw  Lord Voldemort            1"
      ]
     },
     "execution_count": 61,
     "metadata": {},
     "output_type": "execute_result"
    }
   ],
   "source": [
    "base.groupby(['HOUSE', 'BOGGART']).agg({'HOUSE':'count'}).rename(columns={'HOUSE':'count'})"
   ]
  },
  {
   "cell_type": "code",
   "execution_count": 63,
   "id": "a9bf0c9d-415e-47c6-9f1b-b4ad7683e337",
   "metadata": {
    "tags": []
   },
   "outputs": [
    {
     "data": {
      "text/plain": [
       "Text(0.5, 0, 'BOGGART')"
      ]
     },
     "execution_count": 63,
     "metadata": {},
     "output_type": "execute_result"
    },
    {
     "data": {
      "image/png": "[encoded data removed]",
      "text/plain": [
       "<Figure size 640x480 with 1 Axes>"
      ]
     },
     "metadata": {},
     "output_type": "display_data"
    }
   ],
   "source": [
    "plt.hist(base.iloc[:,4], bins= 9)\n",
    "plt.title('HOUSE')\n",
    "plt.ylabel('HOUSE')\n",
    "plt.xlabel('BOGGART')"
   ]
  },
  {
   "cell_type": "code",
   "execution_count": 68,
   "id": "e9013bb9-4846-4713-8772-a67a85de2fdc",
   "metadata": {
    "tags": []
   },
   "outputs": [
    {
     "data": {
      "text/html": [
       "<div>\n",
       "<style scoped>\n",
       "    .dataframe tbody tr th:only-of-type {\n",
       "        vertical-align: middle;\n",
       "    }\n",
       "\n",
       "    .dataframe tbody tr th {\n",
       "        vertical-align: top;\n",
       "    }\n",
       "\n",
       "    .dataframe thead th {\n",
       "        text-align: right;\n",
       "    }\n",
       "</style>\n",
       "<table border=\"1\" class=\"dataframe\">\n",
       "  <thead>\n",
       "    <tr style=\"text-align: right;\">\n",
       "      <th></th>\n",
       "      <th></th>\n",
       "      <th>count</th>\n",
       "    </tr>\n",
       "    <tr>\n",
       "      <th>BOGGART</th>\n",
       "      <th>PATRONUS</th>\n",
       "      <th></th>\n",
       "    </tr>\n",
       "  </thead>\n",
       "  <tbody>\n",
       "    <tr>\n",
       "      <th>Aragog</th>\n",
       "      <th>Jack Russell terrier</th>\n",
       "      <td>1</td>\n",
       "    </tr>\n",
       "    <tr>\n",
       "      <th>Bloody eyeball</th>\n",
       "      <th>Non-corporeal</th>\n",
       "      <td>1</td>\n",
       "    </tr>\n",
       "    <tr>\n",
       "      <th>Dementor</th>\n",
       "      <th>Stag</th>\n",
       "      <td>1</td>\n",
       "    </tr>\n",
       "    <tr>\n",
       "      <th>Failure</th>\n",
       "      <th>Otter</th>\n",
       "      <td>1</td>\n",
       "    </tr>\n",
       "    <tr>\n",
       "      <th>Fullÿmoon</th>\n",
       "      <th>Wolf</th>\n",
       "      <td>1</td>\n",
       "    </tr>\n",
       "    <tr>\n",
       "      <th rowspan=\"3\" valign=\"top\">Lord Voldemort</th>\n",
       "      <th>Cat</th>\n",
       "      <td>1</td>\n",
       "    </tr>\n",
       "    <tr>\n",
       "      <th>Magpie</th>\n",
       "      <td>2</td>\n",
       "    </tr>\n",
       "    <tr>\n",
       "      <th>Non-corporeal</th>\n",
       "      <td>1</td>\n",
       "    </tr>\n",
       "    <tr>\n",
       "      <th>Losing her abilities</th>\n",
       "      <th>Wolf</th>\n",
       "      <td>1</td>\n",
       "    </tr>\n",
       "    <tr>\n",
       "      <th>Severus Snape</th>\n",
       "      <th>Non-corporeal</th>\n",
       "      <td>1</td>\n",
       "    </tr>\n",
       "  </tbody>\n",
       "</table>\n",
       "</div>"
      ],
      "text/plain": [
       "                                           count\n",
       "BOGGART              PATRONUS                   \n",
       "Aragog               Jack Russell terrier      1\n",
       "Bloody eyeball       Non-corporeal             1\n",
       "Dementor             Stag                      1\n",
       "Failure              Otter                     1\n",
       "Fullÿmoon            Wolf                      1\n",
       "Lord Voldemort       Cat                       1\n",
       "                     Magpie                    2\n",
       "                     Non-corporeal             1\n",
       "Losing her abilities Wolf                      1\n",
       "Severus Snape        Non-corporeal             1"
      ]
     },
     "execution_count": 68,
     "metadata": {},
     "output_type": "execute_result"
    }
   ],
   "source": [
    "base.groupby(['BOGGART', 'PATRONUS']).agg({'PATRONUS': 'count'}).rename(columns={'PATRONUS': 'count'})"
   ]
  },
  {
   "cell_type": "code",
   "execution_count": 67,
   "id": "050ed4db-f32c-4024-8ef0-78c0b2daecd4",
   "metadata": {
    "tags": []
   },
   "outputs": [
    {
     "data": {
      "text/html": [
       "<div>\n",
       "<style scoped>\n",
       "    .dataframe tbody tr th:only-of-type {\n",
       "        vertical-align: middle;\n",
       "    }\n",
       "\n",
       "    .dataframe tbody tr th {\n",
       "        vertical-align: top;\n",
       "    }\n",
       "\n",
       "    .dataframe thead th {\n",
       "        text-align: right;\n",
       "    }\n",
       "</style>\n",
       "<table border=\"1\" class=\"dataframe\">\n",
       "  <thead>\n",
       "    <tr style=\"text-align: right;\">\n",
       "      <th></th>\n",
       "      <th></th>\n",
       "      <th>count</th>\n",
       "    </tr>\n",
       "    <tr>\n",
       "      <th>NAME</th>\n",
       "      <th>PATRONUS</th>\n",
       "      <th></th>\n",
       "    </tr>\n",
       "  </thead>\n",
       "  <tbody>\n",
       "    <tr>\n",
       "      <th>Filius Flitwick</th>\n",
       "      <th>Non-corporeal</th>\n",
       "      <td>1</td>\n",
       "    </tr>\n",
       "    <tr>\n",
       "      <th>Fred Weasley</th>\n",
       "      <th>Magpie</th>\n",
       "      <td>1</td>\n",
       "    </tr>\n",
       "    <tr>\n",
       "      <th>George Weasley</th>\n",
       "      <th>Magpie</th>\n",
       "      <td>1</td>\n",
       "    </tr>\n",
       "    <tr>\n",
       "      <th>Harry Potter</th>\n",
       "      <th>Stag</th>\n",
       "      <td>1</td>\n",
       "    </tr>\n",
       "    <tr>\n",
       "      <th>Hermione Granger</th>\n",
       "      <th>Otter</th>\n",
       "      <td>1</td>\n",
       "    </tr>\n",
       "    <tr>\n",
       "      <th>Lavender Brown</th>\n",
       "      <th>Non-corporeal</th>\n",
       "      <td>1</td>\n",
       "    </tr>\n",
       "    <tr>\n",
       "      <th>Minerva McGonagall</th>\n",
       "      <th>Cat</th>\n",
       "      <td>1</td>\n",
       "    </tr>\n",
       "    <tr>\n",
       "      <th>Neville Longbottom</th>\n",
       "      <th>Non-corporeal</th>\n",
       "      <td>1</td>\n",
       "    </tr>\n",
       "    <tr>\n",
       "      <th>Nymphadora Tonks</th>\n",
       "      <th>Wolf</th>\n",
       "      <td>1</td>\n",
       "    </tr>\n",
       "    <tr>\n",
       "      <th>Remus Lupin</th>\n",
       "      <th>Wolf</th>\n",
       "      <td>1</td>\n",
       "    </tr>\n",
       "    <tr>\n",
       "      <th>Ronald Weasley</th>\n",
       "      <th>Jack Russell terrier</th>\n",
       "      <td>1</td>\n",
       "    </tr>\n",
       "  </tbody>\n",
       "</table>\n",
       "</div>"
      ],
      "text/plain": [
       "                                         count\n",
       "NAME               PATRONUS                   \n",
       "Filius Flitwick    Non-corporeal             1\n",
       "Fred Weasley       Magpie                    1\n",
       "George Weasley     Magpie                    1\n",
       "Harry Potter       Stag                      1\n",
       "Hermione Granger   Otter                     1\n",
       "Lavender Brown     Non-corporeal             1\n",
       "Minerva McGonagall Cat                       1\n",
       "Neville Longbottom Non-corporeal             1\n",
       "Nymphadora Tonks   Wolf                      1\n",
       "Remus Lupin        Wolf                      1\n",
       "Ronald Weasley     Jack Russell terrier      1"
      ]
     },
     "execution_count": 67,
     "metadata": {},
     "output_type": "execute_result"
    }
   ],
   "source": [
    "base.groupby(['NAME', 'PATRONUS']).agg({'PATRONUS': 'count'}).rename(columns={'PATRONUS': 'count'})"
   ]
  },
  {
   "cell_type": "markdown",
   "id": "8094a39e-2111-4c03-bdd8-43726853d7e3",
   "metadata": {},
   "source": [
    "1° Os puros sangues são a maioria dos combatentes, e foram os que mais morreram \n",
    "\n",
    "2° A porcentagem de homens é muito maior que de mulheres, os homens foram os que mais morreram \n",
    "\n",
    "3° Os humanos são a maioria, logico que foram os que mais morreram \n",
    "\n",
    "4° A grifinoria foi a que mais teve participação no conflito, A grifinoria foi a que mais teve perdas \n",
    "\n",
    "5° A nacionalidade é maior de ingleses e irlandeses, os alunos ingleses foram os que mais morreram nesse conflito \n",
    "\n",
    "6° O lord valdemort é o que mais aparece na pesquisa de bicho papão, basicamente todos os bichos papões foram mortos nesse conflito "
   ]
  }
 ],
 "metadata": {
  "kernelspec": {
   "display_name": "Python 3 (ipykernel)",
   "language": "python",
   "name": "python3"
  },
  "language_info": {
   "codemirror_mode": {
    "name": "ipython",
    "version": 3
   },
   "file_extension": ".py",
   "mimetype": "text/x-python",
   "name": "python",
   "nbconvert_exporter": "python",
   "pygments_lexer": "ipython3",
   "version": "3.10.13"
  }
 },
 "nbformat": 4,
 "nbformat_minor": 5
}
